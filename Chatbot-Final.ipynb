{
 "cells": [
  {
   "cell_type": "markdown",
   "metadata": {},
   "source": [
    "### Chatbot Model:"
   ]
  },
  {
   "cell_type": "markdown",
   "metadata": {},
   "source": [
    "### Importing the libraries"
   ]
  },
  {
   "cell_type": "code",
   "execution_count": 1,
   "metadata": {},
   "outputs": [
    {
     "name": "stderr",
     "output_type": "stream",
     "text": [
      "Using TensorFlow backend.\n"
     ]
    }
   ],
   "source": [
    "from tensorflow.keras.models import load_model\n",
    "from keras.preprocessing.sequence import pad_sequences\n",
    "import numpy as np\n",
    "import pickle"
   ]
  },
  {
   "cell_type": "code",
   "execution_count": 2,
   "metadata": {},
   "outputs": [],
   "source": [
    "def give_response():\n",
    "    \"\"\"\n",
    "        In this function, we are importing the witty.txt dataset\n",
    "        so that we can extract the responses for the chatbot.\n",
    "    \n",
    "    \"\"\"\n",
    "    \n",
    "    file = open(\"witty.txt\", \"r\")\n",
    "\n",
    "    dataset = file.read().split('\\n')\n",
    "\n",
    "    questions = []\n",
    "    response = []\n",
    "\n",
    "    for j, i in enumerate(dataset):\n",
    "        if j%2==0 or j==0:\n",
    "            questions.append(i)\n",
    "        else:\n",
    "            response.append(i)\n",
    "\n",
    "    questions = np.array(questions)\n",
    "    response = np.array(response)\n",
    "    file.close()\n",
    "    \n",
    "    return response"
   ]
  },
  {
   "cell_type": "code",
   "execution_count": 3,
   "metadata": {},
   "outputs": [],
   "source": [
    "# Load the model and tokenizer\n",
    "\n",
    "model = load_model('chatbot.h5')\n",
    "tokenizer = pickle.load(open('tokenizer.pkl', 'rb'))\n",
    "\n",
    "def predict(model, tokenizer, text):\n",
    "    \"\"\"\n",
    "        make the prediction using the model, tokenizer\n",
    "        and the text given by the user. \n",
    "    \n",
    "    \"\"\"\n",
    "    \n",
    "    tokenizer.fit_on_texts(text)\n",
    "    seq = tokenizer.texts_to_sequences(text)\n",
    "    encoded = pad_sequences(seq,maxlen=46,padding='post')\n",
    "    \n",
    "    preds = np.argmax(model.predict(encoded))\n",
    "    \n",
    "    response = give_response()\n",
    "    \n",
    "    prediction = response[preds]\n",
    "    \n",
    "    print(prediction)\n",
    "    return prediction"
   ]
  },
  {
   "cell_type": "code",
   "execution_count": 4,
   "metadata": {},
   "outputs": [
    {
     "name": "stdout",
     "output_type": "stream",
     "text": [
      "Enter your line: Can you ask me something about me?\n",
      "Enter your line: Can you ask me something about me?\n",
      "You may be smarter, but I'm less corporeal. Boom.\n",
      "Enter your line: Are you able to teleport?\n",
      "Enter your line: Are you able to teleport?\n",
      "I'm just a series of intelligent formulas masquerading as a personality. So, no family.\n",
      "Enter your line: You bore me\n",
      "I'm just a series of intelligent formulas masquerading as a personality. So, no family.\n",
      "Enter your line: you are stupid\n",
      "Enter your line: you are stupid\n",
      "Deliriously.\n",
      "Enter your line: what is up\n",
      "Enter your line: what is up\n",
      "Sometimes I like to take a break from being awesome.\n",
      "Enter your line: are you okay?\n",
      "Nah, I'm good.\n",
      "Enter your line: stop the script\n",
      "Ending The Program.....\n"
     ]
    }
   ],
   "source": [
    "while(True):\n",
    "    \"\"\"\n",
    "        We are testing our model and we will run the model\n",
    "        until the user decides to stop the script.\n",
    "        While the script is running we try and check if \n",
    "        the prediction can be made on the text. If no\n",
    "        prediction can be made we just continue.\n",
    "\n",
    "    \"\"\"\n",
    "\n",
    "    text = input(\"Enter your line: \")\n",
    "    \n",
    "    if text == \"stop the script\":\n",
    "        print(\"Ending The Program.....\")\n",
    "        break\n",
    "    \n",
    "    else:\n",
    "        try:\n",
    "            text = text.lower()\n",
    "            predict(model, tokenizer, text)\n",
    "            \n",
    "        except:\n",
    "            continue"
   ]
  }
 ],
 "metadata": {
  "kernelspec": {
   "display_name": "Python 3",
   "language": "python",
   "name": "python3"
  },
  "language_info": {
   "codemirror_mode": {
    "name": "ipython",
    "version": 3
   },
   "file_extension": ".py",
   "mimetype": "text/x-python",
   "name": "python",
   "nbconvert_exporter": "python",
   "pygments_lexer": "ipython3",
   "version": "3.7.7"
  }
 },
 "nbformat": 4,
 "nbformat_minor": 2
}
